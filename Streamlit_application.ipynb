{
  "nbformat": 4,
  "nbformat_minor": 0,
  "metadata": {
    "colab": {
      "provenance": []
    },
    "kernelspec": {
      "name": "python3",
      "display_name": "Python 3"
    },
    "language_info": {
      "name": "python"
    }
  },
  "cells": [
    {
      "cell_type": "code",
      "execution_count": null,
      "metadata": {
        "id": "TOsMFxyAM2qa"
      },
      "outputs": [],
      "source": [
        "import streamlit as st\n",
        "from snowflake.snowpark.context import get_active_session\n",
        "\n",
        "st.set_page_config(layout='wide')\n",
        "session = get_active_session()\n",
        "\n",
        "def summarize():\n",
        "    with st.container():\n",
        "        st.header(\"JSON Summary With Snowflake Arctic\")\n",
        "        entered_text = st.text_area(\"Enter text\",label_visibility=\"hidden\",height=400,placeholder='For example: customer call transcript')\n",
        "        if entered_text:\n",
        "            entered_text = entered_text.replace(\"'\", \"\\\\'\")\n",
        "            prompt = f\"Summarize this transcript in less than 200 words. Put the product name, defect if any, and summary in JSON format: {entered_text}\"\n",
        "            cortex_prompt = \"'[INST] \" + prompt + \" [/INST]'\"\n",
        "            cortex_response = session.sql(f\"select snowflake.cortex.complete('snowflake-arctic', {cortex_prompt}) as response\").to_pandas().iloc[0]['RESPONSE']\n",
        "            st.json(cortex_response)\n",
        "\n",
        "def translate():\n",
        "    supported_languages = {'German':'de','French':'fr','Korean':'ko','Portuguese':'pt','English':'en','Italian':'it','Russian':'ru','Swedish':'sv','Spanish':'es','Japanese':'ja','Polish':'pl'}\n",
        "    with st.container():\n",
        "        st.header(\"Translate With Snowflake Cortex\")\n",
        "        col1,col2 = st.columns(2)\n",
        "        with col1:\n",
        "            from_language = st.selectbox('From',dict(sorted(supported_languages.items())))\n",
        "        with col2:\n",
        "            to_language = st.selectbox('To',dict(sorted(supported_languages.items())))\n",
        "        entered_text = st.text_area(\"Enter text\",label_visibility=\"hidden\",height=300,placeholder='For example: call customer transcript')\n",
        "        if entered_text:\n",
        "          entered_text = entered_text.replace(\"'\", \"\\\\'\")\n",
        "          cortex_response = session.sql(f\"select snowflake.cortex.translate('{entered_text}','{supported_languages[from_language]}','{supported_languages[to_language]}') as response\").to_pandas().iloc[0]['RESPONSE']\n",
        "          st.write(cortex_response)\n",
        "\n",
        "def sentiment_analysis():\n",
        "    with st.container():\n",
        "        st.header(\"Sentiment Analysis With Snowflake Cortex\")\n",
        "        entered_text = st.text_area(\"Enter text\",label_visibility=\"hidden\",height=400,placeholder='For example: customer call transcript')\n",
        "        if entered_text:\n",
        "          entered_text = entered_text.replace(\"'\", \"\\\\'\")\n",
        "          cortex_response = session.sql(f\"select snowflake.cortex.sentiment('{entered_text}') as sentiment\").to_pandas()\n",
        "          st.caption(\"Score is between -1 and 1; -1 = Most negative, 1 = Positive, 0 = Neutral\")\n",
        "          st.write(cortex_response)\n",
        "\n",
        "page_names_to_funcs = {\n",
        "    \"JSON Summary\": summarize,\n",
        "    \"Translate\": translate,\n",
        "    \"Sentiment Analysis\": sentiment_analysis,\n",
        "}\n",
        "\n",
        "selected_page = st.sidebar.selectbox(\"Select\", page_names_to_funcs.keys())\n",
        "page_names_to_funcs[selected_page]()"
      ]
    }
  ]
}